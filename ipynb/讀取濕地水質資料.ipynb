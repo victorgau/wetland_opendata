{
  "nbformat": 4,
  "nbformat_minor": 0,
  "metadata": {
    "colab": {
      "name": "讀取濕地水質資料.ipynb",
      "provenance": []
    },
    "kernelspec": {
      "name": "python3",
      "display_name": "Python 3"
    }
  },
  "cells": [
    {
      "cell_type": "markdown",
      "metadata": {
        "id": "8g9CZj11kXJ-"
      },
      "source": [
        "# 讀取濕地水質資料"
      ]
    },
    {
      "cell_type": "code",
      "metadata": {
        "id": "ZrRpuUsSkRq_"
      },
      "source": [
        "import pandas as pd\n",
        "import requests"
      ],
      "execution_count": 1,
      "outputs": []
    },
    {
      "cell_type": "code",
      "metadata": {
        "id": "ryNyIfp-ksc1"
      },
      "source": [
        "wname = \"茄萣濕地\""
      ],
      "execution_count": 2,
      "outputs": []
    },
    {
      "cell_type": "code",
      "metadata": {
        "id": "btnqJ-BKkbdG"
      },
      "source": [
        "url = f\"https://wetland-db.tcd.gov.tw/wlfea/RESTful/OpenAPI/GetWaterData?wname={wname}&limit=1000\""
      ],
      "execution_count": 3,
      "outputs": []
    },
    {
      "cell_type": "code",
      "metadata": {
        "id": "zjRP8VcWkuhG"
      },
      "source": [
        "data = requests.get(url).json()"
      ],
      "execution_count": 5,
      "outputs": []
    },
    {
      "cell_type": "code",
      "metadata": {
        "id": "dkaCkAvYk2Ka",
        "outputId": "d0a6a181-355c-4d67-fddd-934f728c1813",
        "colab": {
          "base_uri": "https://localhost:8080/",
          "height": 263
        }
      },
      "source": [
        "data[0]"
      ],
      "execution_count": 6,
      "outputs": [
        {
          "output_type": "execute_result",
          "data": {
            "text/plain": [
              "{'BOD': '6.6',\n",
              " 'COD': '15',\n",
              " 'EVENTDATE': '20160301',\n",
              " 'EVENTTIME': 'NA',\n",
              " 'Investigator': 'NA',\n",
              " 'LATITUDE': '22.883555',\n",
              " 'LONGITUDE': '120.202',\n",
              " 'NH3_N': '0.1',\n",
              " 'NO3_N': '0',\n",
              " 'SS': '9.5',\n",
              " 'S_NAME': 'A32',\n",
              " 'T_P': '6',\n",
              " 'Temp': '25.4',\n",
              " 'pH': '8.2'}"
            ]
          },
          "metadata": {
            "tags": []
          },
          "execution_count": 6
        }
      ]
    },
    {
      "cell_type": "code",
      "metadata": {
        "id": "86LLSiSRlBt2"
      },
      "source": [
        "data1 = {}\n",
        "\n",
        "for i, x in enumerate(data):\n",
        "  data1[i] = pd.Series(x)"
      ],
      "execution_count": 7,
      "outputs": []
    },
    {
      "cell_type": "code",
      "metadata": {
        "id": "n4j6_pMjlS7p",
        "outputId": "dec073dc-6538-4ba5-dfac-c73b33829cbd",
        "colab": {
          "base_uri": "https://localhost:8080/",
          "height": 281
        }
      },
      "source": [
        "data1[0]"
      ],
      "execution_count": 8,
      "outputs": [
        {
          "output_type": "execute_result",
          "data": {
            "text/plain": [
              "S_NAME                A32\n",
              "EVENTDATE        20160301\n",
              "EVENTTIME              NA\n",
              "LONGITUDE         120.202\n",
              "LATITUDE        22.883555\n",
              "Temp                 25.4\n",
              "pH                    8.2\n",
              "NH3_N                 0.1\n",
              "SS                    9.5\n",
              "BOD                   6.6\n",
              "COD                    15\n",
              "NO3_N                   0\n",
              "T_P                     6\n",
              "Investigator           NA\n",
              "dtype: object"
            ]
          },
          "metadata": {
            "tags": []
          },
          "execution_count": 8
        }
      ]
    },
    {
      "cell_type": "code",
      "metadata": {
        "id": "-4CQUeLRlVUQ"
      },
      "source": [
        "df1 = pd.DataFrame(data1)"
      ],
      "execution_count": 9,
      "outputs": []
    },
    {
      "cell_type": "code",
      "metadata": {
        "id": "E9rqB2_8lcxu"
      },
      "source": [
        "df1 = df1.T"
      ],
      "execution_count": 11,
      "outputs": []
    },
    {
      "cell_type": "code",
      "metadata": {
        "id": "cn_IGvTnli5T",
        "outputId": "c4cc1365-8a42-49f9-cfec-d1b05f82aadb",
        "colab": {
          "base_uri": "https://localhost:8080/",
          "height": 223
        }
      },
      "source": [
        "df1.head()"
      ],
      "execution_count": 12,
      "outputs": [
        {
          "output_type": "execute_result",
          "data": {
            "text/html": [
              "<div>\n",
              "<style scoped>\n",
              "    .dataframe tbody tr th:only-of-type {\n",
              "        vertical-align: middle;\n",
              "    }\n",
              "\n",
              "    .dataframe tbody tr th {\n",
              "        vertical-align: top;\n",
              "    }\n",
              "\n",
              "    .dataframe thead th {\n",
              "        text-align: right;\n",
              "    }\n",
              "</style>\n",
              "<table border=\"1\" class=\"dataframe\">\n",
              "  <thead>\n",
              "    <tr style=\"text-align: right;\">\n",
              "      <th></th>\n",
              "      <th>S_NAME</th>\n",
              "      <th>EVENTDATE</th>\n",
              "      <th>EVENTTIME</th>\n",
              "      <th>LONGITUDE</th>\n",
              "      <th>LATITUDE</th>\n",
              "      <th>Temp</th>\n",
              "      <th>pH</th>\n",
              "      <th>NH3_N</th>\n",
              "      <th>SS</th>\n",
              "      <th>BOD</th>\n",
              "      <th>COD</th>\n",
              "      <th>NO3_N</th>\n",
              "      <th>T_P</th>\n",
              "      <th>Investigator</th>\n",
              "    </tr>\n",
              "  </thead>\n",
              "  <tbody>\n",
              "    <tr>\n",
              "      <th>0</th>\n",
              "      <td>A32</td>\n",
              "      <td>20160301</td>\n",
              "      <td>NA</td>\n",
              "      <td>120.202</td>\n",
              "      <td>22.883555</td>\n",
              "      <td>25.4</td>\n",
              "      <td>8.2</td>\n",
              "      <td>0.1</td>\n",
              "      <td>9.5</td>\n",
              "      <td>6.6</td>\n",
              "      <td>15</td>\n",
              "      <td>0</td>\n",
              "      <td>6</td>\n",
              "      <td>NA</td>\n",
              "    </tr>\n",
              "    <tr>\n",
              "      <th>1</th>\n",
              "      <td>A32</td>\n",
              "      <td>20160501</td>\n",
              "      <td>NA</td>\n",
              "      <td>120.202</td>\n",
              "      <td>22.883555</td>\n",
              "      <td>29.8</td>\n",
              "      <td>9.02</td>\n",
              "      <td>0.21</td>\n",
              "      <td>2</td>\n",
              "      <td>1.7</td>\n",
              "      <td>59</td>\n",
              "      <td>0</td>\n",
              "      <td>0.48</td>\n",
              "      <td>NA</td>\n",
              "    </tr>\n",
              "    <tr>\n",
              "      <th>2</th>\n",
              "      <td>A32</td>\n",
              "      <td>20160801</td>\n",
              "      <td>NA</td>\n",
              "      <td>120.202</td>\n",
              "      <td>22.883555</td>\n",
              "      <td>31.8</td>\n",
              "      <td>9.35</td>\n",
              "      <td>0.14</td>\n",
              "      <td>8</td>\n",
              "      <td>4.71</td>\n",
              "      <td>36</td>\n",
              "      <td>0.01</td>\n",
              "      <td>0.35</td>\n",
              "      <td>NA</td>\n",
              "    </tr>\n",
              "    <tr>\n",
              "      <th>3</th>\n",
              "      <td>A32</td>\n",
              "      <td>20161001</td>\n",
              "      <td>NA</td>\n",
              "      <td>120.202</td>\n",
              "      <td>22.883555</td>\n",
              "      <td>30.1</td>\n",
              "      <td>8.92</td>\n",
              "      <td>0.13</td>\n",
              "      <td>4</td>\n",
              "      <td>6.21</td>\n",
              "      <td>12</td>\n",
              "      <td>0.01</td>\n",
              "      <td>0.29</td>\n",
              "      <td>NA</td>\n",
              "    </tr>\n",
              "    <tr>\n",
              "      <th>4</th>\n",
              "      <td>A31</td>\n",
              "      <td>20160301</td>\n",
              "      <td>NA</td>\n",
              "      <td>120.19713</td>\n",
              "      <td>22.890361</td>\n",
              "      <td>27.6</td>\n",
              "      <td>8.7</td>\n",
              "      <td>0.1</td>\n",
              "      <td>0.1</td>\n",
              "      <td>15.8</td>\n",
              "      <td>18</td>\n",
              "      <td>0.3</td>\n",
              "      <td>3</td>\n",
              "      <td>NA</td>\n",
              "    </tr>\n",
              "  </tbody>\n",
              "</table>\n",
              "</div>"
            ],
            "text/plain": [
              "  S_NAME EVENTDATE EVENTTIME  LONGITUDE  ... COD NO3_N   T_P Investigator\n",
              "0    A32  20160301        NA    120.202  ...  15     0     6           NA\n",
              "1    A32  20160501        NA    120.202  ...  59     0  0.48           NA\n",
              "2    A32  20160801        NA    120.202  ...  36  0.01  0.35           NA\n",
              "3    A32  20161001        NA    120.202  ...  12  0.01  0.29           NA\n",
              "4    A31  20160301        NA  120.19713  ...  18   0.3     3           NA\n",
              "\n",
              "[5 rows x 14 columns]"
            ]
          },
          "metadata": {
            "tags": []
          },
          "execution_count": 12
        }
      ]
    },
    {
      "cell_type": "code",
      "metadata": {
        "id": "4MfpCfTwlj-L",
        "outputId": "680bea7b-106f-45c6-90ec-0b67353647c8",
        "colab": {
          "base_uri": "https://localhost:8080/",
          "height": 387
        }
      },
      "source": [
        "df1.info()"
      ],
      "execution_count": 13,
      "outputs": [
        {
          "output_type": "stream",
          "text": [
            "<class 'pandas.core.frame.DataFrame'>\n",
            "Int64Index: 81 entries, 0 to 80\n",
            "Data columns (total 14 columns):\n",
            " #   Column        Non-Null Count  Dtype \n",
            "---  ------        --------------  ----- \n",
            " 0   S_NAME        81 non-null     object\n",
            " 1   EVENTDATE     81 non-null     object\n",
            " 2   EVENTTIME     81 non-null     object\n",
            " 3   LONGITUDE     81 non-null     object\n",
            " 4   LATITUDE      81 non-null     object\n",
            " 5   Temp          81 non-null     object\n",
            " 6   pH            81 non-null     object\n",
            " 7   NH3_N         81 non-null     object\n",
            " 8   SS            81 non-null     object\n",
            " 9   BOD           81 non-null     object\n",
            " 10  COD           81 non-null     object\n",
            " 11  NO3_N         81 non-null     object\n",
            " 12  T_P           81 non-null     object\n",
            " 13  Investigator  81 non-null     object\n",
            "dtypes: object(14)\n",
            "memory usage: 12.0+ KB\n"
          ],
          "name": "stdout"
        }
      ]
    },
    {
      "cell_type": "code",
      "metadata": {
        "id": "XSn6Q1OPlpLX"
      },
      "source": [
        "df1['EVENTDATE'] = pd.to_datetime(df1['EVENTDATE'])"
      ],
      "execution_count": 15,
      "outputs": []
    },
    {
      "cell_type": "code",
      "metadata": {
        "id": "ytYHrJw7lxHB",
        "outputId": "e90ba811-d535-428c-983b-5460e5df862e",
        "colab": {
          "base_uri": "https://localhost:8080/",
          "height": 309
        }
      },
      "source": [
        "df1.head()"
      ],
      "execution_count": 16,
      "outputs": [
        {
          "output_type": "execute_result",
          "data": {
            "text/html": [
              "<div>\n",
              "<style scoped>\n",
              "    .dataframe tbody tr th:only-of-type {\n",
              "        vertical-align: middle;\n",
              "    }\n",
              "\n",
              "    .dataframe tbody tr th {\n",
              "        vertical-align: top;\n",
              "    }\n",
              "\n",
              "    .dataframe thead th {\n",
              "        text-align: right;\n",
              "    }\n",
              "</style>\n",
              "<table border=\"1\" class=\"dataframe\">\n",
              "  <thead>\n",
              "    <tr style=\"text-align: right;\">\n",
              "      <th></th>\n",
              "      <th>S_NAME</th>\n",
              "      <th>EVENTDATE</th>\n",
              "      <th>EVENTTIME</th>\n",
              "      <th>LONGITUDE</th>\n",
              "      <th>LATITUDE</th>\n",
              "      <th>Temp</th>\n",
              "      <th>pH</th>\n",
              "      <th>NH3_N</th>\n",
              "      <th>SS</th>\n",
              "      <th>BOD</th>\n",
              "      <th>COD</th>\n",
              "      <th>NO3_N</th>\n",
              "      <th>T_P</th>\n",
              "      <th>Investigator</th>\n",
              "    </tr>\n",
              "  </thead>\n",
              "  <tbody>\n",
              "    <tr>\n",
              "      <th>0</th>\n",
              "      <td>A32</td>\n",
              "      <td>2016-03-01</td>\n",
              "      <td>NA</td>\n",
              "      <td>120.202</td>\n",
              "      <td>22.883555</td>\n",
              "      <td>25.4</td>\n",
              "      <td>8.2</td>\n",
              "      <td>0.1</td>\n",
              "      <td>9.5</td>\n",
              "      <td>6.6</td>\n",
              "      <td>15</td>\n",
              "      <td>0</td>\n",
              "      <td>6</td>\n",
              "      <td>NA</td>\n",
              "    </tr>\n",
              "    <tr>\n",
              "      <th>1</th>\n",
              "      <td>A32</td>\n",
              "      <td>2016-05-01</td>\n",
              "      <td>NA</td>\n",
              "      <td>120.202</td>\n",
              "      <td>22.883555</td>\n",
              "      <td>29.8</td>\n",
              "      <td>9.02</td>\n",
              "      <td>0.21</td>\n",
              "      <td>2</td>\n",
              "      <td>1.7</td>\n",
              "      <td>59</td>\n",
              "      <td>0</td>\n",
              "      <td>0.48</td>\n",
              "      <td>NA</td>\n",
              "    </tr>\n",
              "    <tr>\n",
              "      <th>2</th>\n",
              "      <td>A32</td>\n",
              "      <td>2016-08-01</td>\n",
              "      <td>NA</td>\n",
              "      <td>120.202</td>\n",
              "      <td>22.883555</td>\n",
              "      <td>31.8</td>\n",
              "      <td>9.35</td>\n",
              "      <td>0.14</td>\n",
              "      <td>8</td>\n",
              "      <td>4.71</td>\n",
              "      <td>36</td>\n",
              "      <td>0.01</td>\n",
              "      <td>0.35</td>\n",
              "      <td>NA</td>\n",
              "    </tr>\n",
              "    <tr>\n",
              "      <th>3</th>\n",
              "      <td>A32</td>\n",
              "      <td>2016-10-01</td>\n",
              "      <td>NA</td>\n",
              "      <td>120.202</td>\n",
              "      <td>22.883555</td>\n",
              "      <td>30.1</td>\n",
              "      <td>8.92</td>\n",
              "      <td>0.13</td>\n",
              "      <td>4</td>\n",
              "      <td>6.21</td>\n",
              "      <td>12</td>\n",
              "      <td>0.01</td>\n",
              "      <td>0.29</td>\n",
              "      <td>NA</td>\n",
              "    </tr>\n",
              "    <tr>\n",
              "      <th>4</th>\n",
              "      <td>A31</td>\n",
              "      <td>2016-03-01</td>\n",
              "      <td>NA</td>\n",
              "      <td>120.19713</td>\n",
              "      <td>22.890361</td>\n",
              "      <td>27.6</td>\n",
              "      <td>8.7</td>\n",
              "      <td>0.1</td>\n",
              "      <td>0.1</td>\n",
              "      <td>15.8</td>\n",
              "      <td>18</td>\n",
              "      <td>0.3</td>\n",
              "      <td>3</td>\n",
              "      <td>NA</td>\n",
              "    </tr>\n",
              "  </tbody>\n",
              "</table>\n",
              "</div>"
            ],
            "text/plain": [
              "  S_NAME  EVENTDATE EVENTTIME  LONGITUDE  ... COD NO3_N   T_P Investigator\n",
              "0    A32 2016-03-01        NA    120.202  ...  15     0     6           NA\n",
              "1    A32 2016-05-01        NA    120.202  ...  59     0  0.48           NA\n",
              "2    A32 2016-08-01        NA    120.202  ...  36  0.01  0.35           NA\n",
              "3    A32 2016-10-01        NA    120.202  ...  12  0.01  0.29           NA\n",
              "4    A31 2016-03-01        NA  120.19713  ...  18   0.3     3           NA\n",
              "\n",
              "[5 rows x 14 columns]"
            ]
          },
          "metadata": {
            "tags": []
          },
          "execution_count": 16
        }
      ]
    },
    {
      "cell_type": "code",
      "metadata": {
        "id": "XdhUFfhxl28k",
        "outputId": "121b32d1-163f-4b23-ba14-1472830eb172",
        "colab": {
          "base_uri": "https://localhost:8080/",
          "height": 387
        }
      },
      "source": [
        "df1.info()"
      ],
      "execution_count": 17,
      "outputs": [
        {
          "output_type": "stream",
          "text": [
            "<class 'pandas.core.frame.DataFrame'>\n",
            "Int64Index: 81 entries, 0 to 80\n",
            "Data columns (total 14 columns):\n",
            " #   Column        Non-Null Count  Dtype         \n",
            "---  ------        --------------  -----         \n",
            " 0   S_NAME        81 non-null     object        \n",
            " 1   EVENTDATE     81 non-null     datetime64[ns]\n",
            " 2   EVENTTIME     81 non-null     object        \n",
            " 3   LONGITUDE     81 non-null     object        \n",
            " 4   LATITUDE      81 non-null     object        \n",
            " 5   Temp          81 non-null     object        \n",
            " 6   pH            81 non-null     object        \n",
            " 7   NH3_N         81 non-null     object        \n",
            " 8   SS            81 non-null     object        \n",
            " 9   BOD           81 non-null     object        \n",
            " 10  COD           81 non-null     object        \n",
            " 11  NO3_N         81 non-null     object        \n",
            " 12  T_P           81 non-null     object        \n",
            " 13  Investigator  81 non-null     object        \n",
            "dtypes: datetime64[ns](1), object(13)\n",
            "memory usage: 12.0+ KB\n"
          ],
          "name": "stdout"
        }
      ]
    },
    {
      "cell_type": "code",
      "metadata": {
        "id": "w9IeyGnUl5YV"
      },
      "source": [
        "df1 = df1.set_index(\"EVENTDATE\")"
      ],
      "execution_count": 18,
      "outputs": []
    },
    {
      "cell_type": "code",
      "metadata": {
        "id": "EbK9kkWHl-K-",
        "outputId": "62363aaa-1e9d-416f-cb1e-59335be92d6a",
        "colab": {
          "base_uri": "https://localhost:8080/",
          "height": 295
        }
      },
      "source": [
        "df1['Temp'].astype(float).plot()"
      ],
      "execution_count": 19,
      "outputs": [
        {
          "output_type": "execute_result",
          "data": {
            "text/plain": [
              "<matplotlib.axes._subplots.AxesSubplot at 0x7fbbd9642b38>"
            ]
          },
          "metadata": {
            "tags": []
          },
          "execution_count": 19
        },
        {
          "output_type": "display_data",
          "data": {
            "image/png": "[encoded data removed]",
            "text/plain": [
              "<Figure size 432x288 with 1 Axes>"
            ]
          },
          "metadata": {
            "tags": [],
            "needs_background": "light"
          }
        }
      ]
    },
    {
      "cell_type": "code",
      "metadata": {
        "id": "-UVvn_MkmHKK",
        "outputId": "761e9f23-00af-417b-fc3a-cd151ab525be",
        "colab": {
          "base_uri": "https://localhost:8080/",
          "height": 299
        }
      },
      "source": [
        "df1['pH'].astype(float).plot()"
      ],
      "execution_count": 20,
      "outputs": [
        {
          "output_type": "execute_result",
          "data": {
            "text/plain": [
              "<matplotlib.axes._subplots.AxesSubplot at 0x7fbbd9590940>"
            ]
          },
          "metadata": {
            "tags": []
          },
          "execution_count": 20
        },
        {
          "output_type": "display_data",
          "data": {
            "image/png": "[encoded data removed]",
            "text/plain": [
              "<Figure size 432x288 with 1 Axes>"
            ]
          },
          "metadata": {
            "tags": [],
            "needs_background": "light"
          }
        }
      ]
    },
    {
      "cell_type": "code",
      "metadata": {
        "id": "uh22nuRtmS2T"
      },
      "source": [
        ""
      ],
      "execution_count": null,
      "outputs": []
    }
  ]
}