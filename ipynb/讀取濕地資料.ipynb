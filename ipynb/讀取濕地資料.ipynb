{
  "nbformat": 4,
  "nbformat_minor": 0,
  "metadata": {
    "colab": {
      "name": "讀取濕地資料.ipynb",
      "provenance": []
    },
    "kernelspec": {
      "name": "python3",
      "display_name": "Python 3"
    }
  },
  "cells": [
    {
      "cell_type": "markdown",
      "metadata": {
        "id": "yIPYTKc5h67k"
      },
      "source": [
        "# 讀取濕地資料"
      ]
    },
    {
      "cell_type": "code",
      "metadata": {
        "id": "r-Vj3ihOgZok"
      },
      "source": [
        "import requests"
      ],
      "execution_count": 1,
      "outputs": []
    },
    {
      "cell_type": "code",
      "metadata": {
        "id": "ohykGOY1gctb"
      },
      "source": [
        "url = \"https://wetland-db.tcd.gov.tw/wlfea/api/Map/GetWetland\""
      ],
      "execution_count": 2,
      "outputs": []
    },
    {
      "cell_type": "code",
      "metadata": {
        "id": "_0mWMpYbghAN"
      },
      "source": [
        "data = requests.get(url).json()"
      ],
      "execution_count": 3,
      "outputs": []
    },
    {
      "cell_type": "code",
      "metadata": {
        "id": "Fb_3BFt2glqn",
        "outputId": "a2466f83-c1ed-4630-f0cc-3b80c0ad2757",
        "colab": {
          "base_uri": "https://localhost:8080/",
          "height": 55
        }
      },
      "source": [
        "data.keys()"
      ],
      "execution_count": 4,
      "outputs": [
        {
          "output_type": "execute_result",
          "data": {
            "text/plain": [
              "dict_keys(['bioIconClass', 'taiwan', 'wetland', 'wetland_Detail', 'IsVerify', 'ResponseMsg'])"
            ]
          },
          "metadata": {
            "tags": []
          },
          "execution_count": 4
        }
      ]
    },
    {
      "cell_type": "code",
      "metadata": {
        "id": "vCtwHcrggnqV",
        "outputId": "a8646fe0-dad8-4212-aa6c-0524604dfd79",
        "colab": {
          "base_uri": "https://localhost:8080/",
          "height": 35
        }
      },
      "source": [
        "type(data['wetland'])"
      ],
      "execution_count": 6,
      "outputs": [
        {
          "output_type": "execute_result",
          "data": {
            "text/plain": [
              "list"
            ]
          },
          "metadata": {
            "tags": []
          },
          "execution_count": 6
        }
      ]
    },
    {
      "cell_type": "code",
      "metadata": {
        "id": "b4DDq1-Og8Eb",
        "outputId": "5946c946-2e83-4002-ccde-c9e5635685d4",
        "colab": {
          "base_uri": "https://localhost:8080/",
          "height": 618
        }
      },
      "source": [
        "data['wetland'][0]"
      ],
      "execution_count": 7,
      "outputs": [
        {
          "output_type": "execute_result",
          "data": {
            "text/plain": [
              "{'M_SNO': None,\n",
              " 'S_SNO': None,\n",
              " 'biocount': 101,\n",
              " 'biocountlist': [{'AMOUNT': 0, 'MAIN_SNO': 31, 'SNO': 589, 'STAT_CLASS': 1},\n",
              "  {'AMOUNT': 0, 'MAIN_SNO': 31, 'SNO': 590, 'STAT_CLASS': 2},\n",
              "  {'AMOUNT': 0, 'MAIN_SNO': 31, 'SNO': 591, 'STAT_CLASS': 3},\n",
              "  {'AMOUNT': 0, 'MAIN_SNO': 31, 'SNO': 592, 'STAT_CLASS': 4},\n",
              "  {'AMOUNT': 12, 'MAIN_SNO': 31, 'SNO': 593, 'STAT_CLASS': 5},\n",
              "  {'AMOUNT': 0, 'MAIN_SNO': 31, 'SNO': 594, 'STAT_CLASS': 6},\n",
              "  {'AMOUNT': 0, 'MAIN_SNO': 31, 'SNO': 595, 'STAT_CLASS': 7},\n",
              "  {'AMOUNT': 0, 'MAIN_SNO': 31, 'SNO': 596, 'STAT_CLASS': 8},\n",
              "  {'AMOUNT': 0, 'MAIN_SNO': 31, 'SNO': 597, 'STAT_CLASS': 9},\n",
              "  {'AMOUNT': 0, 'MAIN_SNO': 31, 'SNO': 598, 'STAT_CLASS': 10},\n",
              "  {'AMOUNT': 0, 'MAIN_SNO': 31, 'SNO': 599, 'STAT_CLASS': 11},\n",
              "  {'AMOUNT': 0, 'MAIN_SNO': 31, 'SNO': 600, 'STAT_CLASS': 12},\n",
              "  {'AMOUNT': 17, 'MAIN_SNO': 31, 'SNO': 601, 'STAT_CLASS': 13},\n",
              "  {'AMOUNT': 0, 'MAIN_SNO': 31, 'SNO': 602, 'STAT_CLASS': 14},\n",
              "  {'AMOUNT': 0, 'MAIN_SNO': 31, 'SNO': 603, 'STAT_CLASS': 15},\n",
              "  {'AMOUNT': 3, 'MAIN_SNO': 31, 'SNO': 604, 'STAT_CLASS': 16},\n",
              "  {'AMOUNT': 32, 'MAIN_SNO': 31, 'SNO': 605, 'STAT_CLASS': 17},\n",
              "  {'AMOUNT': 16, 'MAIN_SNO': 31, 'SNO': 606, 'STAT_CLASS': 18},\n",
              "  {'AMOUNT': 101, 'MAIN_SNO': 31, 'SNO': 607, 'STAT_CLASS': 19}],\n",
              " 'city1': '臺南市',\n",
              " 'city2': '',\n",
              " 'id': '31',\n",
              " 'image_url': 'https://wetland-db.tcd.gov.tw/wlfea//api/Dataset/GetWetImage?_MSNO=31&_SSNO=&_FileName=曾文溪口重要濕地-黑面琵鷺.jpg&isCompress=true',\n",
              " 'label_name': '曾文溪口重要濕地',\n",
              " 'level': '國際級',\n",
              " 'main_wet_name': '曾文溪口重要濕地',\n",
              " 'name': '曾文溪口重要濕地',\n",
              " 'plancount': 3,\n",
              " 'serial_num': '01',\n",
              " 'watercount': 16}"
            ]
          },
          "metadata": {
            "tags": []
          },
          "execution_count": 7
        }
      ]
    },
    {
      "cell_type": "code",
      "metadata": {
        "id": "A8iwinEVhMGL",
        "outputId": "bd892ff6-2467-4376-e418-aedaa1f95553",
        "colab": {
          "base_uri": "https://localhost:8080/",
          "height": 1000
        }
      },
      "source": [
        "for x in data['wetland']:\n",
        "  print(x['level'],'==>',x['name'],'==>',x['biocount'])"
      ],
      "execution_count": 11,
      "outputs": [
        {
          "output_type": "stream",
          "text": [
            "國際級 ==> 曾文溪口重要濕地 ==> 101\n",
            "國際級 ==> 四草重要濕地 ==> 84\n",
            "國家級 ==> 夢幻湖重要濕地 ==> 0\n",
            "國家級 ==> 臺北港北堤重要濕地 ==> 1297\n",
            "國家級 ==> 挖子尾重要濕地 ==> 1297\n",
            "國家級 ==> 淡水河紅樹林重要濕地 ==> 1297\n",
            "國家級 ==> 關渡重要濕地 ==> 1297\n",
            "國家級 ==> 五股重要濕地 ==> 1297\n",
            "國家級 ==> 大漢新店重要濕地 ==> 1297\n",
            "國家級 ==> 新海人工重要濕地 ==> 1297\n",
            "國家級 ==> 浮洲人工重要濕地 ==> 1297\n",
            "國家級 ==> 打鳥埤人工重要濕地 ==> 1297\n",
            "國家級 ==> 城林人工重要濕地 ==> 1297\n",
            "國家級 ==> 鹿角溪人工重要濕地 ==> 1297\n",
            "國家級 ==> 桃園埤圳重要濕地 ==> 12579\n",
            "國家級 ==> 許厝港重要濕地 ==> 10283\n",
            "國家級 ==> 新豐重要濕地 ==> 423\n",
            "國家級 ==> 鴛鴦湖重要濕地 ==> 289\n",
            "國家級 ==> 香山重要濕地 ==> 294\n",
            "國家級 ==> 西湖重要濕地 ==> 523\n",
            "國家級 ==> 七家灣溪重要濕地 ==> 0\n",
            "國家級 ==> 高美重要濕地 ==> 1698\n",
            "國家級 ==> 大肚溪口重要濕地 ==> 2974\n",
            "國家級 ==> 鰲鼓重要濕地 ==> 520\n",
            "國家級 ==> 朴子溪河口重要濕地 ==> 1698\n",
            "國家級 ==> 好美寮重要濕地 ==> 5765\n",
            "國家級 ==> 布袋鹽田重要濕地 ==> 7239\n",
            "國家級 ==> 八掌溪口重要濕地 ==> 233\n",
            "國家級 ==> 嘉南埤圳重要濕地 ==> 1300\n",
            "國家級 ==> 北門重要濕地 ==> 2592\n",
            "國家級 ==> 官田重要濕地 ==> 0\n",
            "國家級 ==> 七股鹽田重要濕地 ==> 5166\n",
            "國家級 ==> 鹽水溪口重要濕地 ==> 80\n",
            "國家級 ==> 楠梓仙溪重要濕地 ==> 463\n",
            "國家級 ==> 大鬼湖重要濕地 ==> 0\n",
            "國家級 ==> 洲仔重要濕地 ==> 1827\n",
            "國家級 ==> 南仁湖重要濕地 ==> 139\n",
            "國家級 ==> 龍鑾潭重要濕地 ==> 10175\n",
            "國家級 ==> 新武呂溪重要濕地 ==> 188\n",
            "國家級 ==> 大坡池重要濕地 ==> 749\n",
            "國家級 ==> 卑南溪口重要濕地 ==> 1308\n",
            "國家級 ==> 小鬼湖重要濕地 ==> 2719\n",
            "國家級 ==> 花蓮溪口重要濕地 ==> 1430\n",
            "國家級 ==> 馬太鞍重要濕地 ==> 839\n",
            "國家級 ==> 雙連埤重要濕地 ==> 1568\n",
            "國家級 ==> 蘭陽溪口重要濕地 ==> 310\n",
            "國家級 ==> 五十二甲重要濕地 ==> 3863\n",
            "國家級 ==> 無尾港重要濕地 ==> 818\n",
            "國家級 ==> 南澳重要濕地 ==> 103\n",
            "國家級 ==> 青螺重要濕地 ==> 1373\n",
            "國家級 ==> 慈湖重要濕地 ==> 0\n",
            "國家級 ==> 清水重要濕地 ==> 1510\n",
            "地方級 ==> 南港202兵工廠及周邊重要濕地 ==> 0\n",
            "地方級 ==> 草坔重要濕地 ==> 353\n",
            "地方級 ==> 永安重要濕地 ==> 4128\n",
            "地方級 ==> 關山人工濕地 ==> 0\n",
            "地方級 ==> 大樹人工重要濕地 ==> 0\n",
            "地方級 ==> 鳥松重要濕地 ==> 3398\n",
            "地方級 ==> 林園人工重要濕地 ==> 0\n",
            "地方級 ==> 援中港重要濕地 ==> 2595\n",
            "地方級 ==> 半屏湖重要濕地 ==> 342\n",
            "地方級 ==> 成龍重要濕地 ==> 3145\n",
            "地方級 ==> 椬梧重要濕地 ==> 7496\n",
            "地方級 ==> 菜園重要濕地 ==> 66\n",
            "地方級 ==> 麟洛人工重要濕地 ==> 0\n",
            "地方級 ==> 四林格山重要濕地 ==> 0\n",
            "地方級 ==> 東源重要濕地 ==> 0\n",
            "暫定地方級 ==> 內寮暫定濕地 ==> 0\n",
            "暫定地方級 ==> 竹北蓮花寺濕地 ==> 466\n",
            "暫定地方級 ==> 頭前溪生態公園 ==> 0\n",
            "暫定地方級 ==> 茄萣濕地 ==> 15005\n",
            "暫定地方級 ==> 四重溪口濕地 ==> 30\n"
          ],
          "name": "stdout"
        }
      ]
    },
    {
      "cell_type": "code",
      "metadata": {
        "id": "i5ElEQUQlxb4"
      },
      "source": [
        "wetland = []\n",
        "for x in data['wetland']:\n",
        "  wetland.append((x['level'], x['name'], x['biocount']))"
      ],
      "execution_count": 12,
      "outputs": []
    },
    {
      "cell_type": "code",
      "metadata": {
        "id": "u2mrnRgxoIgG"
      },
      "source": [
        "import pandas as pd"
      ],
      "execution_count": 13,
      "outputs": []
    },
    {
      "cell_type": "code",
      "metadata": {
        "id": "GgF4c9AnoL88"
      },
      "source": [
        "df = pd.DataFrame(wetland)"
      ],
      "execution_count": 14,
      "outputs": []
    },
    {
      "cell_type": "code",
      "metadata": {
        "id": "GG7ocxwhoOSA"
      },
      "source": [
        "df.columns = ['濕地等級','濕地名稱','物種數量']"
      ],
      "execution_count": 15,
      "outputs": []
    },
    {
      "cell_type": "code",
      "metadata": {
        "id": "-_wWetPHoVEd",
        "outputId": "c6300712-3e07-4b52-abbe-5b24d60ec884",
        "colab": {
          "base_uri": "https://localhost:8080/",
          "height": 357
        }
      },
      "source": [
        "df.sort_values('物種數量',ascending=False).head(10)"
      ],
      "execution_count": 20,
      "outputs": [
        {
          "output_type": "execute_result",
          "data": {
            "text/html": [
              "<div>\n",
              "<style scoped>\n",
              "    .dataframe tbody tr th:only-of-type {\n",
              "        vertical-align: middle;\n",
              "    }\n",
              "\n",
              "    .dataframe tbody tr th {\n",
              "        vertical-align: top;\n",
              "    }\n",
              "\n",
              "    .dataframe thead th {\n",
              "        text-align: right;\n",
              "    }\n",
              "</style>\n",
              "<table border=\"1\" class=\"dataframe\">\n",
              "  <thead>\n",
              "    <tr style=\"text-align: right;\">\n",
              "      <th></th>\n",
              "      <th>濕地等級</th>\n",
              "      <th>濕地名稱</th>\n",
              "      <th>物種數量</th>\n",
              "    </tr>\n",
              "  </thead>\n",
              "  <tbody>\n",
              "    <tr>\n",
              "      <th>70</th>\n",
              "      <td>暫定地方級</td>\n",
              "      <td>茄萣濕地</td>\n",
              "      <td>15005</td>\n",
              "    </tr>\n",
              "    <tr>\n",
              "      <th>14</th>\n",
              "      <td>國家級</td>\n",
              "      <td>桃園埤圳重要濕地</td>\n",
              "      <td>12579</td>\n",
              "    </tr>\n",
              "    <tr>\n",
              "      <th>15</th>\n",
              "      <td>國家級</td>\n",
              "      <td>許厝港重要濕地</td>\n",
              "      <td>10283</td>\n",
              "    </tr>\n",
              "    <tr>\n",
              "      <th>37</th>\n",
              "      <td>國家級</td>\n",
              "      <td>龍鑾潭重要濕地</td>\n",
              "      <td>10175</td>\n",
              "    </tr>\n",
              "    <tr>\n",
              "      <th>62</th>\n",
              "      <td>地方級</td>\n",
              "      <td>椬梧重要濕地</td>\n",
              "      <td>7496</td>\n",
              "    </tr>\n",
              "    <tr>\n",
              "      <th>26</th>\n",
              "      <td>國家級</td>\n",
              "      <td>布袋鹽田重要濕地</td>\n",
              "      <td>7239</td>\n",
              "    </tr>\n",
              "    <tr>\n",
              "      <th>25</th>\n",
              "      <td>國家級</td>\n",
              "      <td>好美寮重要濕地</td>\n",
              "      <td>5765</td>\n",
              "    </tr>\n",
              "    <tr>\n",
              "      <th>31</th>\n",
              "      <td>國家級</td>\n",
              "      <td>七股鹽田重要濕地</td>\n",
              "      <td>5166</td>\n",
              "    </tr>\n",
              "    <tr>\n",
              "      <th>54</th>\n",
              "      <td>地方級</td>\n",
              "      <td>永安重要濕地</td>\n",
              "      <td>4128</td>\n",
              "    </tr>\n",
              "    <tr>\n",
              "      <th>46</th>\n",
              "      <td>國家級</td>\n",
              "      <td>五十二甲重要濕地</td>\n",
              "      <td>3863</td>\n",
              "    </tr>\n",
              "  </tbody>\n",
              "</table>\n",
              "</div>"
            ],
            "text/plain": [
              "     濕地等級      濕地名稱   物種數量\n",
              "70  暫定地方級      茄萣濕地  15005\n",
              "14    國家級  桃園埤圳重要濕地  12579\n",
              "15    國家級   許厝港重要濕地  10283\n",
              "37    國家級   龍鑾潭重要濕地  10175\n",
              "62    地方級    椬梧重要濕地   7496\n",
              "26    國家級  布袋鹽田重要濕地   7239\n",
              "25    國家級   好美寮重要濕地   5765\n",
              "31    國家級  七股鹽田重要濕地   5166\n",
              "54    地方級    永安重要濕地   4128\n",
              "46    國家級  五十二甲重要濕地   3863"
            ]
          },
          "metadata": {
            "tags": []
          },
          "execution_count": 20
        }
      ]
    }
  ]
}